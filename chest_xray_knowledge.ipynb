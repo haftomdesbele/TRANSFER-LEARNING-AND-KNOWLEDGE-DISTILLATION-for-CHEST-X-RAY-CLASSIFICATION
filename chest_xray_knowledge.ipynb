{
  "cells": [
    {
      "cell_type": "code",
      "execution_count": null,
      "metadata": {
        "colab": {
          "base_uri": "https://localhost:8080/"
        },
        "id": "KOMq-Nl6FKqW",
        "outputId": "644c1987-c6c5-4068-860c-6a86ec55700e"
      },
      "outputs": [
        {
          "name": "stdout",
          "output_type": "stream",
          "text": [
            "Drive already mounted at /content/drive/; to attempt to forcibly remount, call drive.mount(\"/content/drive/\", force_remount=True).\n"
          ]
        }
      ],
      "source": [
        "from google.colab import drive\n",
        "drive.mount('/content/drive/')"
      ]
    },
    {
      "cell_type": "code",
      "execution_count": null,
      "metadata": {
        "id": "wwNSU7lhH6cd"
      },
      "outputs": [],
      "source": []
    },
    {
      "cell_type": "code",
      "execution_count": null,
      "metadata": {
        "colab": {
          "base_uri": "https://localhost:8080/"
        },
        "id": "jLLtCHo2FRBU",
        "outputId": "cbc90d30-23e7-4436-94e9-50fda342ab2b"
      },
      "outputs": [
        {
          "data": {
            "text/plain": [
              "['train', 'val', 'test']"
            ]
          },
          "execution_count": 11,
          "metadata": {},
          "output_type": "execute_result"
        }
      ],
      "source": [
        "import os\n",
        "os.listdir('/content/drive/MyDrive/datasets/chest_xray')"
      ]
    },
    {
      "cell_type": "code",
      "execution_count": null,
      "metadata": {
        "colab": {
          "base_uri": "https://localhost:8080/"
        },
        "id": "BcSy0yL2IAK0",
        "outputId": "3f8cba12-05cd-44f6-8127-1edff77b16a0"
      },
      "outputs": [
        {
          "data": {
            "text/plain": [
              "device(type='cuda')"
            ]
          },
          "execution_count": 12,
          "metadata": {},
          "output_type": "execute_result"
        }
      ],
      "source": [
        "# === Setup\n",
        "import os, random, math, time, copy\n",
        "from pathlib import Path\n",
        "\n",
        "import torch\n",
        "import torch.nn as nn\n",
        "import torch.nn.functional as F\n",
        "from torch.utils.data import DataLoader, Dataset, Subset, random_split\n",
        "\n",
        "import torchvision\n",
        "from torchvision import transforms\n",
        "from torchvision.datasets import ImageFolder\n",
        "from torchvision.models import resnet50, resnet18, ResNet50_Weights, ResNet18_Weights\n",
        "\n",
        "import numpy as np\n",
        "from PIL import Image\n",
        "\n",
        "import matplotlib.pyplot as plt\n",
        "from sklearn.metrics import confusion_matrix, precision_recall_fscore_support, accuracy_score\n",
        "\n",
        "# Reproducibility\n",
        "SEED = 42\n",
        "random.seed(SEED); np.random.seed(SEED); torch.manual_seed(SEED); torch.cuda.manual_seed_all(SEED)\n",
        "\n",
        "# === Paths & training config\n",
        "DATASET_DIR = os.environ.get(\"/content/drive/MyDrive/datasets/chest_xray\", \"/content/drive/MyDrive/datasets/chest_xray\")  # <-- set this\n",
        "OUT_DIR = \"./outputs_kd\"\n",
        "os.makedirs(OUT_DIR, exist_ok=True)\n",
        "\n",
        "IMG_SIZE = 224\n",
        "BATCH_SIZE = 64\n",
        "LR = 1e-3\n",
        "MOMENTUM = 0.9\n",
        "TEACHER_EPOCHS = 30\n",
        "STUDENT_EPOCHS = 25\n",
        "DROPOUT_P = 0.6\n",
        "\n",
        "KD_TEMPERATURE = 10.0\n",
        "KD_ALPHA = 0.7  # alpha * KD + (1-alpha) * CE\n",
        "\n",
        "DEVICE = torch.device(\"cuda\" if torch.cuda.is_available() else \"cpu\")\n",
        "DEVICE"
      ]
    },
    {
      "cell_type": "code",
      "execution_count": null,
      "metadata": {
        "colab": {
          "base_uri": "https://localhost:8080/"
        },
        "id": "PssddHTyIABV",
        "outputId": "ce1e77cf-6929-46e6-a988-6770aef84730"
      },
      "outputs": [
        {
          "name": "stdout",
          "output_type": "stream",
          "text": [
            "Found 5856 images.\n"
          ]
        },
        {
          "data": {
            "text/plain": [
              "(4099, 1757, ['NORMAL', 'PNEUMONIA'])"
            ]
          },
          "execution_count": 13,
          "metadata": {},
          "output_type": "execute_result"
        }
      ],
      "source": [
        "# === Dataset loading (merge all to make a custom 70:30 split)\n",
        "# The Kaggle dataset usually comes as chest_xray/train, /val, /test with 'NORMAL' and 'PNEUMONIA' subfolders.\n",
        "# We'll merge them and then resplit to train/val with 70:30, to mirror the paper's pipeline.\n",
        "\n",
        "def collect_all_images(root):\n",
        "    root = Path(root)\n",
        "    all_samples = []\n",
        "    for split in [\"train\", \"val\", \"test\"]:\n",
        "        p = root / split\n",
        "        if not p.exists():\n",
        "            continue\n",
        "        for cls in [\"NORMAL\", \"PNEUMONIA\"]:\n",
        "            cdir = p / cls\n",
        "            if not cdir.exists():\n",
        "                continue\n",
        "            for imgp in cdir.rglob(\"*\"):\n",
        "                if imgp.suffix.lower() in {\".png\", \".jpg\", \".jpeg\"}:\n",
        "                    all_samples.append((str(imgp), 0 if cls == \"NORMAL\" else 1))\n",
        "    return all_samples\n",
        "\n",
        "all_samples = collect_all_images(DATASET_DIR)\n",
        "print(f\"Found {len(all_samples)} images.\")\n",
        "\n",
        "# Minimal transforms (paper notes no augmentation); we will use resize+center crop+ToTensor+Normalize\n",
        "MEAN = [0.485, 0.456, 0.406]\n",
        "STD  = [0.229, 0.224, 0.225]\n",
        "\n",
        "base_transform = transforms.Compose([\n",
        "    transforms.Resize((IMG_SIZE, IMG_SIZE)),\n",
        "    transforms.ToTensor(),\n",
        "    transforms.Normalize(mean=MEAN, std=STD),\n",
        "])\n",
        "\n",
        "class XrayInlineDataset(Dataset):\n",
        "    def __init__(self, samples, transform=None):\n",
        "        self.samples = samples\n",
        "        self.transform = transform\n",
        "    def __len__(self):\n",
        "        return len(self.samples)\n",
        "    def __getitem__(self, idx):\n",
        "        path, label = self.samples[idx]\n",
        "        img = Image.open(path).convert(\"RGB\")\n",
        "        if self.transform:\n",
        "            img = self.transform(img)\n",
        "        return img, label\n",
        "\n",
        "full_ds = XrayInlineDataset(all_samples, transform=base_transform)\n",
        "\n",
        "# 70:30 split\n",
        "train_size = int(0.7 * len(full_ds))\n",
        "val_size = len(full_ds) - train_size\n",
        "train_ds, val_ds = random_split(full_ds, [train_size, val_size], generator=torch.Generator().manual_seed(SEED))\n",
        "\n",
        "train_loader = DataLoader(train_ds, batch_size=BATCH_SIZE, shuffle=True, num_workers=2, pin_memory=True)\n",
        "val_loader   = DataLoader(val_ds, batch_size=BATCH_SIZE, shuffle=False, num_workers=2, pin_memory=True)\n",
        "\n",
        "num_classes = 2\n",
        "class_names = [\"NORMAL\", \"PNEUMONIA\"]\n",
        "len(train_ds), len(val_ds), class_names"
      ]
    },
    {
      "cell_type": "code",
      "execution_count": null,
      "metadata": {
        "colab": {
          "base_uri": "https://localhost:8080/"
        },
        "id": "7a610UweItde",
        "outputId": "ab4d2630-2d66-443f-aa64-b65be4698183"
      },
      "outputs": [
        {
          "data": {
            "text/plain": [
              "(23.51213, 11.177538)"
            ]
          },
          "execution_count": 14,
          "metadata": {},
          "output_type": "execute_result"
        }
      ],
      "source": [
        "# === Models\n",
        "class ClassifierHead(nn.Module):\n",
        "    def __init__(self, in_features, num_classes, p=0.6):\n",
        "        super().__init__()\n",
        "        self.dropout = nn.Dropout(p)\n",
        "        self.fc = nn.Linear(in_features, num_classes)\n",
        "    def forward(self, x):\n",
        "        x = self.dropout(x)\n",
        "        return self.fc(x)\n",
        "\n",
        "def build_teacher(load_swav_checkpoint_path=None):\n",
        "    # Placeholder: If you have SWAV weights, load backbone here.\n",
        "    # Fallback: ImageNet-pretrained ResNet-50.\n",
        "    if load_swav_checkpoint_path is None:\n",
        "        backbone = resnet50(weights=ResNet50_Weights.IMAGENET1K_V2)\n",
        "    else:\n",
        "        backbone = resnet50(weights=None)\n",
        "        # Example for loading your SWAV weights (state dict keys may need mapping):\n",
        "        state = torch.load(load_swav_checkpoint_path, map_location=\"cpu\")\n",
        "        if \"state_dict\" in state:\n",
        "            state = state[\"state_dict\"]\n",
        "        missing, unexpected = backbone.load_state_dict(state, strict=False)\n",
        "        print(\"Loaded SWAV weights with missing:\", missing, \"unexpected:\", unexpected)\n",
        "    in_feats = backbone.fc.in_features\n",
        "    backbone.fc = ClassifierHead(in_feats, num_classes=num_classes, p=DROPOUT_P)\n",
        "    return backbone\n",
        "\n",
        "def build_student():\n",
        "    student = resnet18(weights=ResNet18_Weights.IMAGENET1K_V1)\n",
        "    in_feats = student.fc.in_features\n",
        "    student.fc = ClassifierHead(in_feats, num_classes=num_classes, p=DROPOUT_P)\n",
        "    return student\n",
        "\n",
        "teacher = build_teacher(load_swav_checkpoint_path=None).to(DEVICE)\n",
        "student = build_student().to(DEVICE)\n",
        "\n",
        "sum(p.numel() for p in teacher.parameters())/1e6, sum(p.numel() for p in student.parameters())/1e6"
      ]
    },
    {
      "cell_type": "code",
      "execution_count": null,
      "metadata": {
        "colab": {
          "base_uri": "https://localhost:8080/"
        },
        "id": "UgHz4E31Iw4E",
        "outputId": "e23c8b89-9832-4131-cab7-9d2a37ed1fad"
      },
      "outputs": [
        {
          "data": {
            "text/plain": [
              "({'params': 23512130, 'Gparams': 0.02351213},\n",
              " {'params': 11177538, 'Gparams': 0.011177538})"
            ]
          },
          "execution_count": 15,
          "metadata": {},
          "output_type": "execute_result"
        }
      ],
      "source": [
        "# === Utils\n",
        "def run_epoch(model, loader, optimizer=None):\n",
        "    is_train = optimizer is not None\n",
        "    model.train(is_train)\n",
        "    total, correct = 0, 0\n",
        "    all_preds, all_labels = [], []\n",
        "    running_loss = 0.0\n",
        "\n",
        "    for xb, yb in loader:\n",
        "        xb, yb = xb.to(DEVICE, non_blocking=True), torch.tensor(yb).to(DEVICE)\n",
        "        if is_train:\n",
        "            optimizer.zero_grad(set_to_none=True)\n",
        "        logits = model(xb)\n",
        "        loss = F.cross_entropy(logits, yb)\n",
        "        if is_train:\n",
        "            loss.backward()\n",
        "            optimizer.step()\n",
        "        running_loss += loss.item() * xb.size(0)\n",
        "        preds = logits.argmax(dim=1)\n",
        "        correct += (preds == yb).sum().item()\n",
        "        total += xb.size(0)\n",
        "        all_preds.append(preds.detach().cpu().numpy())\n",
        "        all_labels.append(yb.detach().cpu().numpy())\n",
        "\n",
        "    avg_loss = running_loss / total\n",
        "    acc = correct / total\n",
        "    all_preds = np.concatenate(all_preds)\n",
        "    all_labels = np.concatenate(all_labels)\n",
        "    p, r, f1, _ = precision_recall_fscore_support(all_labels, all_preds, average=\"binary\")\n",
        "    return avg_loss, acc, p, r, f1, all_preds, all_labels\n",
        "\n",
        "def approx_gflops_params(model, img_size=224):\n",
        "    # Very rough proxy: use torchvision.ops.flop_count_table if available; otherwise, just param count.\n",
        "    total_params = sum(p.numel() for p in model.parameters())\n",
        "    gparams = total_params / 1e9\n",
        "    return {\"params\": total_params, \"Gparams\": gparams}\n",
        "\n",
        "approx_gflops_params(teacher), approx_gflops_params(student)"
      ]
    },
    {
      "cell_type": "code",
      "execution_count": null,
      "metadata": {
        "colab": {
          "base_uri": "https://localhost:8080/"
        },
        "id": "BicuER0hJCQ0",
        "outputId": "70702822-bb17-4c2d-9bad-523a651c4c7c"
      },
      "outputs": [
        {
          "name": "stderr",
          "output_type": "stream",
          "text": [
            "/tmp/ipython-input-2176591312.py:10: UserWarning: To copy construct from a tensor, it is recommended to use sourceTensor.clone().detach() or sourceTensor.clone().detach().requires_grad_(True), rather than torch.tensor(sourceTensor).\n",
            "  xb, yb = xb.to(DEVICE, non_blocking=True), torch.tensor(yb).to(DEVICE)\n",
            "/tmp/ipython-input-2176591312.py:10: UserWarning: To copy construct from a tensor, it is recommended to use sourceTensor.clone().detach() or sourceTensor.clone().detach().requires_grad_(True), rather than torch.tensor(sourceTensor).\n",
            "  xb, yb = xb.to(DEVICE, non_blocking=True), torch.tensor(yb).to(DEVICE)\n"
          ]
        },
        {
          "name": "stdout",
          "output_type": "stream",
          "text": [
            "[Teacher][1/30] train_acc=0.7614 val_acc=0.8947 (P/R/F1=0.8829/0.9851/0.9312)\n"
          ]
        },
        {
          "name": "stderr",
          "output_type": "stream",
          "text": [
            "/tmp/ipython-input-2176591312.py:10: UserWarning: To copy construct from a tensor, it is recommended to use sourceTensor.clone().detach() or sourceTensor.clone().detach().requires_grad_(True), rather than torch.tensor(sourceTensor).\n",
            "  xb, yb = xb.to(DEVICE, non_blocking=True), torch.tensor(yb).to(DEVICE)\n",
            "/tmp/ipython-input-2176591312.py:10: UserWarning: To copy construct from a tensor, it is recommended to use sourceTensor.clone().detach() or sourceTensor.clone().detach().requires_grad_(True), rather than torch.tensor(sourceTensor).\n",
            "  xb, yb = xb.to(DEVICE, non_blocking=True), torch.tensor(yb).to(DEVICE)\n"
          ]
        },
        {
          "name": "stdout",
          "output_type": "stream",
          "text": [
            "[Teacher][2/30] train_acc=0.9171 val_acc=0.9454 (P/R/F1=0.9523/0.9732/0.9626)\n"
          ]
        },
        {
          "name": "stderr",
          "output_type": "stream",
          "text": [
            "/tmp/ipython-input-2176591312.py:10: UserWarning: To copy construct from a tensor, it is recommended to use sourceTensor.clone().detach() or sourceTensor.clone().detach().requires_grad_(True), rather than torch.tensor(sourceTensor).\n",
            "  xb, yb = xb.to(DEVICE, non_blocking=True), torch.tensor(yb).to(DEVICE)\n",
            "/tmp/ipython-input-2176591312.py:10: UserWarning: To copy construct from a tensor, it is recommended to use sourceTensor.clone().detach() or sourceTensor.clone().detach().requires_grad_(True), rather than torch.tensor(sourceTensor).\n",
            "  xb, yb = xb.to(DEVICE, non_blocking=True), torch.tensor(yb).to(DEVICE)\n"
          ]
        },
        {
          "name": "stdout",
          "output_type": "stream",
          "text": [
            "[Teacher][3/30] train_acc=0.9432 val_acc=0.9192 (P/R/F1=0.9035/0.9945/0.9468)\n"
          ]
        },
        {
          "name": "stderr",
          "output_type": "stream",
          "text": [
            "/tmp/ipython-input-2176591312.py:10: UserWarning: To copy construct from a tensor, it is recommended to use sourceTensor.clone().detach() or sourceTensor.clone().detach().requires_grad_(True), rather than torch.tensor(sourceTensor).\n",
            "  xb, yb = xb.to(DEVICE, non_blocking=True), torch.tensor(yb).to(DEVICE)\n",
            "/tmp/ipython-input-2176591312.py:10: UserWarning: To copy construct from a tensor, it is recommended to use sourceTensor.clone().detach() or sourceTensor.clone().detach().requires_grad_(True), rather than torch.tensor(sourceTensor).\n",
            "  xb, yb = xb.to(DEVICE, non_blocking=True), torch.tensor(yb).to(DEVICE)\n"
          ]
        },
        {
          "name": "stdout",
          "output_type": "stream",
          "text": [
            "[Teacher][4/30] train_acc=0.9558 val_acc=0.9528 (P/R/F1=0.9605/0.9748/0.9676)\n"
          ]
        },
        {
          "name": "stderr",
          "output_type": "stream",
          "text": [
            "/tmp/ipython-input-2176591312.py:10: UserWarning: To copy construct from a tensor, it is recommended to use sourceTensor.clone().detach() or sourceTensor.clone().detach().requires_grad_(True), rather than torch.tensor(sourceTensor).\n",
            "  xb, yb = xb.to(DEVICE, non_blocking=True), torch.tensor(yb).to(DEVICE)\n",
            "/tmp/ipython-input-2176591312.py:10: UserWarning: To copy construct from a tensor, it is recommended to use sourceTensor.clone().detach() or sourceTensor.clone().detach().requires_grad_(True), rather than torch.tensor(sourceTensor).\n",
            "  xb, yb = xb.to(DEVICE, non_blocking=True), torch.tensor(yb).to(DEVICE)\n"
          ]
        },
        {
          "name": "stdout",
          "output_type": "stream",
          "text": [
            "[Teacher][5/30] train_acc=0.9680 val_acc=0.9437 (P/R/F1=0.9386/0.9866/0.9620)\n"
          ]
        },
        {
          "name": "stderr",
          "output_type": "stream",
          "text": [
            "/tmp/ipython-input-2176591312.py:10: UserWarning: To copy construct from a tensor, it is recommended to use sourceTensor.clone().detach() or sourceTensor.clone().detach().requires_grad_(True), rather than torch.tensor(sourceTensor).\n",
            "  xb, yb = xb.to(DEVICE, non_blocking=True), torch.tensor(yb).to(DEVICE)\n",
            "/tmp/ipython-input-2176591312.py:10: UserWarning: To copy construct from a tensor, it is recommended to use sourceTensor.clone().detach() or sourceTensor.clone().detach().requires_grad_(True), rather than torch.tensor(sourceTensor).\n",
            "  xb, yb = xb.to(DEVICE, non_blocking=True), torch.tensor(yb).to(DEVICE)\n"
          ]
        },
        {
          "name": "stdout",
          "output_type": "stream",
          "text": [
            "[Teacher][6/30] train_acc=0.9780 val_acc=0.9545 (P/R/F1=0.9708/0.9662/0.9685)\n"
          ]
        },
        {
          "name": "stderr",
          "output_type": "stream",
          "text": [
            "/tmp/ipython-input-2176591312.py:10: UserWarning: To copy construct from a tensor, it is recommended to use sourceTensor.clone().detach() or sourceTensor.clone().detach().requires_grad_(True), rather than torch.tensor(sourceTensor).\n",
            "  xb, yb = xb.to(DEVICE, non_blocking=True), torch.tensor(yb).to(DEVICE)\n",
            "/tmp/ipython-input-2176591312.py:10: UserWarning: To copy construct from a tensor, it is recommended to use sourceTensor.clone().detach() or sourceTensor.clone().detach().requires_grad_(True), rather than torch.tensor(sourceTensor).\n",
            "  xb, yb = xb.to(DEVICE, non_blocking=True), torch.tensor(yb).to(DEVICE)\n"
          ]
        },
        {
          "name": "stdout",
          "output_type": "stream",
          "text": [
            "[Teacher][7/30] train_acc=0.9741 val_acc=0.9562 (P/R/F1=0.9679/0.9717/0.9698)\n"
          ]
        },
        {
          "name": "stderr",
          "output_type": "stream",
          "text": [
            "/tmp/ipython-input-2176591312.py:10: UserWarning: To copy construct from a tensor, it is recommended to use sourceTensor.clone().detach() or sourceTensor.clone().detach().requires_grad_(True), rather than torch.tensor(sourceTensor).\n",
            "  xb, yb = xb.to(DEVICE, non_blocking=True), torch.tensor(yb).to(DEVICE)\n",
            "/tmp/ipython-input-2176591312.py:10: UserWarning: To copy construct from a tensor, it is recommended to use sourceTensor.clone().detach() or sourceTensor.clone().detach().requires_grad_(True), rather than torch.tensor(sourceTensor).\n",
            "  xb, yb = xb.to(DEVICE, non_blocking=True), torch.tensor(yb).to(DEVICE)\n"
          ]
        },
        {
          "name": "stdout",
          "output_type": "stream",
          "text": [
            "[Teacher][8/30] train_acc=0.9868 val_acc=0.9545 (P/R/F1=0.9501/0.9890/0.9692)\n"
          ]
        },
        {
          "name": "stderr",
          "output_type": "stream",
          "text": [
            "/tmp/ipython-input-2176591312.py:10: UserWarning: To copy construct from a tensor, it is recommended to use sourceTensor.clone().detach() or sourceTensor.clone().detach().requires_grad_(True), rather than torch.tensor(sourceTensor).\n",
            "  xb, yb = xb.to(DEVICE, non_blocking=True), torch.tensor(yb).to(DEVICE)\n",
            "/tmp/ipython-input-2176591312.py:10: UserWarning: To copy construct from a tensor, it is recommended to use sourceTensor.clone().detach() or sourceTensor.clone().detach().requires_grad_(True), rather than torch.tensor(sourceTensor).\n",
            "  xb, yb = xb.to(DEVICE, non_blocking=True), torch.tensor(yb).to(DEVICE)\n"
          ]
        },
        {
          "name": "stdout",
          "output_type": "stream",
          "text": [
            "[Teacher][9/30] train_acc=0.9910 val_acc=0.9636 (P/R/F1=0.9689/0.9811/0.9750)\n"
          ]
        },
        {
          "name": "stderr",
          "output_type": "stream",
          "text": [
            "/tmp/ipython-input-2176591312.py:10: UserWarning: To copy construct from a tensor, it is recommended to use sourceTensor.clone().detach() or sourceTensor.clone().detach().requires_grad_(True), rather than torch.tensor(sourceTensor).\n",
            "  xb, yb = xb.to(DEVICE, non_blocking=True), torch.tensor(yb).to(DEVICE)\n",
            "/tmp/ipython-input-2176591312.py:10: UserWarning: To copy construct from a tensor, it is recommended to use sourceTensor.clone().detach() or sourceTensor.clone().detach().requires_grad_(True), rather than torch.tensor(sourceTensor).\n",
            "  xb, yb = xb.to(DEVICE, non_blocking=True), torch.tensor(yb).to(DEVICE)\n"
          ]
        },
        {
          "name": "stdout",
          "output_type": "stream",
          "text": [
            "[Teacher][10/30] train_acc=0.9915 val_acc=0.9664 (P/R/F1=0.9698/0.9843/0.9770)\n"
          ]
        },
        {
          "name": "stderr",
          "output_type": "stream",
          "text": [
            "/tmp/ipython-input-2176591312.py:10: UserWarning: To copy construct from a tensor, it is recommended to use sourceTensor.clone().detach() or sourceTensor.clone().detach().requires_grad_(True), rather than torch.tensor(sourceTensor).\n",
            "  xb, yb = xb.to(DEVICE, non_blocking=True), torch.tensor(yb).to(DEVICE)\n",
            "/tmp/ipython-input-2176591312.py:10: UserWarning: To copy construct from a tensor, it is recommended to use sourceTensor.clone().detach() or sourceTensor.clone().detach().requires_grad_(True), rather than torch.tensor(sourceTensor).\n",
            "  xb, yb = xb.to(DEVICE, non_blocking=True), torch.tensor(yb).to(DEVICE)\n"
          ]
        },
        {
          "name": "stdout",
          "output_type": "stream",
          "text": [
            "[Teacher][11/30] train_acc=0.9949 val_acc=0.9448 (P/R/F1=0.9361/0.9913/0.9629)\n"
          ]
        },
        {
          "name": "stderr",
          "output_type": "stream",
          "text": [
            "/tmp/ipython-input-2176591312.py:10: UserWarning: To copy construct from a tensor, it is recommended to use sourceTensor.clone().detach() or sourceTensor.clone().detach().requires_grad_(True), rather than torch.tensor(sourceTensor).\n",
            "  xb, yb = xb.to(DEVICE, non_blocking=True), torch.tensor(yb).to(DEVICE)\n",
            "/tmp/ipython-input-2176591312.py:10: UserWarning: To copy construct from a tensor, it is recommended to use sourceTensor.clone().detach() or sourceTensor.clone().detach().requires_grad_(True), rather than torch.tensor(sourceTensor).\n",
            "  xb, yb = xb.to(DEVICE, non_blocking=True), torch.tensor(yb).to(DEVICE)\n"
          ]
        },
        {
          "name": "stdout",
          "output_type": "stream",
          "text": [
            "[Teacher][12/30] train_acc=0.9768 val_acc=0.9602 (P/R/F1=0.9688/0.9764/0.9726)\n"
          ]
        },
        {
          "name": "stderr",
          "output_type": "stream",
          "text": [
            "/tmp/ipython-input-2176591312.py:10: UserWarning: To copy construct from a tensor, it is recommended to use sourceTensor.clone().detach() or sourceTensor.clone().detach().requires_grad_(True), rather than torch.tensor(sourceTensor).\n",
            "  xb, yb = xb.to(DEVICE, non_blocking=True), torch.tensor(yb).to(DEVICE)\n",
            "/tmp/ipython-input-2176591312.py:10: UserWarning: To copy construct from a tensor, it is recommended to use sourceTensor.clone().detach() or sourceTensor.clone().detach().requires_grad_(True), rather than torch.tensor(sourceTensor).\n",
            "  xb, yb = xb.to(DEVICE, non_blocking=True), torch.tensor(yb).to(DEVICE)\n"
          ]
        },
        {
          "name": "stdout",
          "output_type": "stream",
          "text": [
            "[Teacher][13/30] train_acc=0.9819 val_acc=0.9647 (P/R/F1=0.9771/0.9740/0.9756)\n"
          ]
        },
        {
          "name": "stderr",
          "output_type": "stream",
          "text": [
            "/tmp/ipython-input-2176591312.py:10: UserWarning: To copy construct from a tensor, it is recommended to use sourceTensor.clone().detach() or sourceTensor.clone().detach().requires_grad_(True), rather than torch.tensor(sourceTensor).\n",
            "  xb, yb = xb.to(DEVICE, non_blocking=True), torch.tensor(yb).to(DEVICE)\n",
            "/tmp/ipython-input-2176591312.py:10: UserWarning: To copy construct from a tensor, it is recommended to use sourceTensor.clone().detach() or sourceTensor.clone().detach().requires_grad_(True), rather than torch.tensor(sourceTensor).\n",
            "  xb, yb = xb.to(DEVICE, non_blocking=True), torch.tensor(yb).to(DEVICE)\n"
          ]
        },
        {
          "name": "stdout",
          "output_type": "stream",
          "text": [
            "[Teacher][14/30] train_acc=0.9907 val_acc=0.9647 (P/R/F1=0.9779/0.9732/0.9756)\n"
          ]
        },
        {
          "name": "stderr",
          "output_type": "stream",
          "text": [
            "/tmp/ipython-input-2176591312.py:10: UserWarning: To copy construct from a tensor, it is recommended to use sourceTensor.clone().detach() or sourceTensor.clone().detach().requires_grad_(True), rather than torch.tensor(sourceTensor).\n",
            "  xb, yb = xb.to(DEVICE, non_blocking=True), torch.tensor(yb).to(DEVICE)\n",
            "/tmp/ipython-input-2176591312.py:10: UserWarning: To copy construct from a tensor, it is recommended to use sourceTensor.clone().detach() or sourceTensor.clone().detach().requires_grad_(True), rather than torch.tensor(sourceTensor).\n",
            "  xb, yb = xb.to(DEVICE, non_blocking=True), torch.tensor(yb).to(DEVICE)\n"
          ]
        },
        {
          "name": "stdout",
          "output_type": "stream",
          "text": [
            "[Teacher][15/30] train_acc=0.9954 val_acc=0.9647 (P/R/F1=0.9771/0.9740/0.9756)\n"
          ]
        },
        {
          "name": "stderr",
          "output_type": "stream",
          "text": [
            "/tmp/ipython-input-2176591312.py:10: UserWarning: To copy construct from a tensor, it is recommended to use sourceTensor.clone().detach() or sourceTensor.clone().detach().requires_grad_(True), rather than torch.tensor(sourceTensor).\n",
            "  xb, yb = xb.to(DEVICE, non_blocking=True), torch.tensor(yb).to(DEVICE)\n",
            "/tmp/ipython-input-2176591312.py:10: UserWarning: To copy construct from a tensor, it is recommended to use sourceTensor.clone().detach() or sourceTensor.clone().detach().requires_grad_(True), rather than torch.tensor(sourceTensor).\n",
            "  xb, yb = xb.to(DEVICE, non_blocking=True), torch.tensor(yb).to(DEVICE)\n"
          ]
        },
        {
          "name": "stdout",
          "output_type": "stream",
          "text": [
            "[Teacher][16/30] train_acc=0.9980 val_acc=0.9664 (P/R/F1=0.9757/0.9780/0.9768)\n"
          ]
        },
        {
          "name": "stderr",
          "output_type": "stream",
          "text": [
            "/tmp/ipython-input-2176591312.py:10: UserWarning: To copy construct from a tensor, it is recommended to use sourceTensor.clone().detach() or sourceTensor.clone().detach().requires_grad_(True), rather than torch.tensor(sourceTensor).\n",
            "  xb, yb = xb.to(DEVICE, non_blocking=True), torch.tensor(yb).to(DEVICE)\n",
            "/tmp/ipython-input-2176591312.py:10: UserWarning: To copy construct from a tensor, it is recommended to use sourceTensor.clone().detach() or sourceTensor.clone().detach().requires_grad_(True), rather than torch.tensor(sourceTensor).\n",
            "  xb, yb = xb.to(DEVICE, non_blocking=True), torch.tensor(yb).to(DEVICE)\n"
          ]
        },
        {
          "name": "stdout",
          "output_type": "stream",
          "text": [
            "[Teacher][17/30] train_acc=0.9995 val_acc=0.9641 (P/R/F1=0.9771/0.9732/0.9752)\n"
          ]
        },
        {
          "name": "stderr",
          "output_type": "stream",
          "text": [
            "/tmp/ipython-input-2176591312.py:10: UserWarning: To copy construct from a tensor, it is recommended to use sourceTensor.clone().detach() or sourceTensor.clone().detach().requires_grad_(True), rather than torch.tensor(sourceTensor).\n",
            "  xb, yb = xb.to(DEVICE, non_blocking=True), torch.tensor(yb).to(DEVICE)\n",
            "/tmp/ipython-input-2176591312.py:10: UserWarning: To copy construct from a tensor, it is recommended to use sourceTensor.clone().detach() or sourceTensor.clone().detach().requires_grad_(True), rather than torch.tensor(sourceTensor).\n",
            "  xb, yb = xb.to(DEVICE, non_blocking=True), torch.tensor(yb).to(DEVICE)\n"
          ]
        },
        {
          "name": "stdout",
          "output_type": "stream",
          "text": [
            "[Teacher][18/30] train_acc=0.9980 val_acc=0.9641 (P/R/F1=0.9809/0.9693/0.9751)\n"
          ]
        },
        {
          "name": "stderr",
          "output_type": "stream",
          "text": [
            "/tmp/ipython-input-2176591312.py:10: UserWarning: To copy construct from a tensor, it is recommended to use sourceTensor.clone().detach() or sourceTensor.clone().detach().requires_grad_(True), rather than torch.tensor(sourceTensor).\n",
            "  xb, yb = xb.to(DEVICE, non_blocking=True), torch.tensor(yb).to(DEVICE)\n",
            "/tmp/ipython-input-2176591312.py:10: UserWarning: To copy construct from a tensor, it is recommended to use sourceTensor.clone().detach() or sourceTensor.clone().detach().requires_grad_(True), rather than torch.tensor(sourceTensor).\n",
            "  xb, yb = xb.to(DEVICE, non_blocking=True), torch.tensor(yb).to(DEVICE)\n"
          ]
        },
        {
          "name": "stdout",
          "output_type": "stream",
          "text": [
            "[Teacher][19/30] train_acc=0.9851 val_acc=0.9562 (P/R/F1=0.9846/0.9544/0.9692)\n"
          ]
        },
        {
          "name": "stderr",
          "output_type": "stream",
          "text": [
            "/tmp/ipython-input-2176591312.py:10: UserWarning: To copy construct from a tensor, it is recommended to use sourceTensor.clone().detach() or sourceTensor.clone().detach().requires_grad_(True), rather than torch.tensor(sourceTensor).\n",
            "  xb, yb = xb.to(DEVICE, non_blocking=True), torch.tensor(yb).to(DEVICE)\n",
            "/tmp/ipython-input-2176591312.py:10: UserWarning: To copy construct from a tensor, it is recommended to use sourceTensor.clone().detach() or sourceTensor.clone().detach().requires_grad_(True), rather than torch.tensor(sourceTensor).\n",
            "  xb, yb = xb.to(DEVICE, non_blocking=True), torch.tensor(yb).to(DEVICE)\n"
          ]
        },
        {
          "name": "stdout",
          "output_type": "stream",
          "text": [
            "[Teacher][20/30] train_acc=0.9944 val_acc=0.9630 (P/R/F1=0.9801/0.9685/0.9743)\n"
          ]
        },
        {
          "name": "stderr",
          "output_type": "stream",
          "text": [
            "/tmp/ipython-input-2176591312.py:10: UserWarning: To copy construct from a tensor, it is recommended to use sourceTensor.clone().detach() or sourceTensor.clone().detach().requires_grad_(True), rather than torch.tensor(sourceTensor).\n",
            "  xb, yb = xb.to(DEVICE, non_blocking=True), torch.tensor(yb).to(DEVICE)\n",
            "/tmp/ipython-input-2176591312.py:10: UserWarning: To copy construct from a tensor, it is recommended to use sourceTensor.clone().detach() or sourceTensor.clone().detach().requires_grad_(True), rather than torch.tensor(sourceTensor).\n",
            "  xb, yb = xb.to(DEVICE, non_blocking=True), torch.tensor(yb).to(DEVICE)\n"
          ]
        },
        {
          "name": "stdout",
          "output_type": "stream",
          "text": [
            "[Teacher][21/30] train_acc=0.9978 val_acc=0.9676 (P/R/F1=0.9780/0.9772/0.9776)\n"
          ]
        },
        {
          "name": "stderr",
          "output_type": "stream",
          "text": [
            "/tmp/ipython-input-2176591312.py:10: UserWarning: To copy construct from a tensor, it is recommended to use sourceTensor.clone().detach() or sourceTensor.clone().detach().requires_grad_(True), rather than torch.tensor(sourceTensor).\n",
            "  xb, yb = xb.to(DEVICE, non_blocking=True), torch.tensor(yb).to(DEVICE)\n",
            "/tmp/ipython-input-2176591312.py:10: UserWarning: To copy construct from a tensor, it is recommended to use sourceTensor.clone().detach() or sourceTensor.clone().detach().requires_grad_(True), rather than torch.tensor(sourceTensor).\n",
            "  xb, yb = xb.to(DEVICE, non_blocking=True), torch.tensor(yb).to(DEVICE)\n"
          ]
        },
        {
          "name": "stdout",
          "output_type": "stream",
          "text": [
            "[Teacher][22/30] train_acc=0.9983 val_acc=0.9636 (P/R/F1=0.9771/0.9725/0.9748)\n"
          ]
        },
        {
          "name": "stderr",
          "output_type": "stream",
          "text": [
            "/tmp/ipython-input-2176591312.py:10: UserWarning: To copy construct from a tensor, it is recommended to use sourceTensor.clone().detach() or sourceTensor.clone().detach().requires_grad_(True), rather than torch.tensor(sourceTensor).\n",
            "  xb, yb = xb.to(DEVICE, non_blocking=True), torch.tensor(yb).to(DEVICE)\n",
            "/tmp/ipython-input-2176591312.py:10: UserWarning: To copy construct from a tensor, it is recommended to use sourceTensor.clone().detach() or sourceTensor.clone().detach().requires_grad_(True), rather than torch.tensor(sourceTensor).\n",
            "  xb, yb = xb.to(DEVICE, non_blocking=True), torch.tensor(yb).to(DEVICE)\n"
          ]
        },
        {
          "name": "stdout",
          "output_type": "stream",
          "text": [
            "[Teacher][23/30] train_acc=0.9939 val_acc=0.9624 (P/R/F1=0.9725/0.9756/0.9741)\n"
          ]
        },
        {
          "name": "stderr",
          "output_type": "stream",
          "text": [
            "/tmp/ipython-input-2176591312.py:10: UserWarning: To copy construct from a tensor, it is recommended to use sourceTensor.clone().detach() or sourceTensor.clone().detach().requires_grad_(True), rather than torch.tensor(sourceTensor).\n",
            "  xb, yb = xb.to(DEVICE, non_blocking=True), torch.tensor(yb).to(DEVICE)\n",
            "/tmp/ipython-input-2176591312.py:10: UserWarning: To copy construct from a tensor, it is recommended to use sourceTensor.clone().detach() or sourceTensor.clone().detach().requires_grad_(True), rather than torch.tensor(sourceTensor).\n",
            "  xb, yb = xb.to(DEVICE, non_blocking=True), torch.tensor(yb).to(DEVICE)\n"
          ]
        },
        {
          "name": "stdout",
          "output_type": "stream",
          "text": [
            "[Teacher][24/30] train_acc=0.9983 val_acc=0.9653 (P/R/F1=0.9697/0.9827/0.9762)\n"
          ]
        },
        {
          "name": "stderr",
          "output_type": "stream",
          "text": [
            "/tmp/ipython-input-2176591312.py:10: UserWarning: To copy construct from a tensor, it is recommended to use sourceTensor.clone().detach() or sourceTensor.clone().detach().requires_grad_(True), rather than torch.tensor(sourceTensor).\n",
            "  xb, yb = xb.to(DEVICE, non_blocking=True), torch.tensor(yb).to(DEVICE)\n",
            "/tmp/ipython-input-2176591312.py:10: UserWarning: To copy construct from a tensor, it is recommended to use sourceTensor.clone().detach() or sourceTensor.clone().detach().requires_grad_(True), rather than torch.tensor(sourceTensor).\n",
            "  xb, yb = xb.to(DEVICE, non_blocking=True), torch.tensor(yb).to(DEVICE)\n"
          ]
        },
        {
          "name": "stdout",
          "output_type": "stream",
          "text": [
            "[Teacher][25/30] train_acc=0.9980 val_acc=0.9664 (P/R/F1=0.9757/0.9780/0.9768)\n"
          ]
        },
        {
          "name": "stderr",
          "output_type": "stream",
          "text": [
            "/tmp/ipython-input-2176591312.py:10: UserWarning: To copy construct from a tensor, it is recommended to use sourceTensor.clone().detach() or sourceTensor.clone().detach().requires_grad_(True), rather than torch.tensor(sourceTensor).\n",
            "  xb, yb = xb.to(DEVICE, non_blocking=True), torch.tensor(yb).to(DEVICE)\n",
            "/tmp/ipython-input-2176591312.py:10: UserWarning: To copy construct from a tensor, it is recommended to use sourceTensor.clone().detach() or sourceTensor.clone().detach().requires_grad_(True), rather than torch.tensor(sourceTensor).\n",
            "  xb, yb = xb.to(DEVICE, non_blocking=True), torch.tensor(yb).to(DEVICE)\n"
          ]
        },
        {
          "name": "stdout",
          "output_type": "stream",
          "text": [
            "[Teacher][26/30] train_acc=0.9990 val_acc=0.9664 (P/R/F1=0.9690/0.9851/0.9770)\n"
          ]
        },
        {
          "name": "stderr",
          "output_type": "stream",
          "text": [
            "/tmp/ipython-input-2176591312.py:10: UserWarning: To copy construct from a tensor, it is recommended to use sourceTensor.clone().detach() or sourceTensor.clone().detach().requires_grad_(True), rather than torch.tensor(sourceTensor).\n",
            "  xb, yb = xb.to(DEVICE, non_blocking=True), torch.tensor(yb).to(DEVICE)\n",
            "/tmp/ipython-input-2176591312.py:10: UserWarning: To copy construct from a tensor, it is recommended to use sourceTensor.clone().detach() or sourceTensor.clone().detach().requires_grad_(True), rather than torch.tensor(sourceTensor).\n",
            "  xb, yb = xb.to(DEVICE, non_blocking=True), torch.tensor(yb).to(DEVICE)\n"
          ]
        },
        {
          "name": "stdout",
          "output_type": "stream",
          "text": [
            "[Teacher][27/30] train_acc=0.9998 val_acc=0.9704 (P/R/F1=0.9795/0.9795/0.9795)\n"
          ]
        },
        {
          "name": "stderr",
          "output_type": "stream",
          "text": [
            "/tmp/ipython-input-2176591312.py:10: UserWarning: To copy construct from a tensor, it is recommended to use sourceTensor.clone().detach() or sourceTensor.clone().detach().requires_grad_(True), rather than torch.tensor(sourceTensor).\n",
            "  xb, yb = xb.to(DEVICE, non_blocking=True), torch.tensor(yb).to(DEVICE)\n",
            "/tmp/ipython-input-2176591312.py:10: UserWarning: To copy construct from a tensor, it is recommended to use sourceTensor.clone().detach() or sourceTensor.clone().detach().requires_grad_(True), rather than torch.tensor(sourceTensor).\n",
            "  xb, yb = xb.to(DEVICE, non_blocking=True), torch.tensor(yb).to(DEVICE)\n"
          ]
        },
        {
          "name": "stdout",
          "output_type": "stream",
          "text": [
            "[Teacher][28/30] train_acc=0.9993 val_acc=0.9641 (P/R/F1=0.9646/0.9866/0.9755)\n"
          ]
        },
        {
          "name": "stderr",
          "output_type": "stream",
          "text": [
            "/tmp/ipython-input-2176591312.py:10: UserWarning: To copy construct from a tensor, it is recommended to use sourceTensor.clone().detach() or sourceTensor.clone().detach().requires_grad_(True), rather than torch.tensor(sourceTensor).\n",
            "  xb, yb = xb.to(DEVICE, non_blocking=True), torch.tensor(yb).to(DEVICE)\n",
            "/tmp/ipython-input-2176591312.py:10: UserWarning: To copy construct from a tensor, it is recommended to use sourceTensor.clone().detach() or sourceTensor.clone().detach().requires_grad_(True), rather than torch.tensor(sourceTensor).\n",
            "  xb, yb = xb.to(DEVICE, non_blocking=True), torch.tensor(yb).to(DEVICE)\n"
          ]
        },
        {
          "name": "stdout",
          "output_type": "stream",
          "text": [
            "[Teacher][29/30] train_acc=0.9893 val_acc=0.9710 (P/R/F1=0.9788/0.9811/0.9800)\n"
          ]
        },
        {
          "name": "stderr",
          "output_type": "stream",
          "text": [
            "/tmp/ipython-input-2176591312.py:10: UserWarning: To copy construct from a tensor, it is recommended to use sourceTensor.clone().detach() or sourceTensor.clone().detach().requires_grad_(True), rather than torch.tensor(sourceTensor).\n",
            "  xb, yb = xb.to(DEVICE, non_blocking=True), torch.tensor(yb).to(DEVICE)\n",
            "/tmp/ipython-input-2176591312.py:10: UserWarning: To copy construct from a tensor, it is recommended to use sourceTensor.clone().detach() or sourceTensor.clone().detach().requires_grad_(True), rather than torch.tensor(sourceTensor).\n",
            "  xb, yb = xb.to(DEVICE, non_blocking=True), torch.tensor(yb).to(DEVICE)\n"
          ]
        },
        {
          "name": "stdout",
          "output_type": "stream",
          "text": [
            "[Teacher][30/30] train_acc=0.9988 val_acc=0.9693 (P/R/F1=0.9795/0.9780/0.9787)\n"
          ]
        },
        {
          "data": {
            "text/plain": [
              "<All keys matched successfully>"
            ]
          },
          "execution_count": 16,
          "metadata": {},
          "output_type": "execute_result"
        }
      ],
      "source": [
        "# === Train Teacher\n",
        "teacher_opt = torch.optim.SGD(teacher.parameters(), lr=LR, momentum=MOMENTUM)\n",
        "history_teacher = {\"train_loss\":[], \"train_acc\":[], \"val_loss\":[], \"val_acc\":[]}\n",
        "\n",
        "best_teacher = copy.deepcopy(teacher.state_dict())\n",
        "best_val_acc = 0.0\n",
        "\n",
        "for epoch in range(1, TEACHER_EPOCHS+1):\n",
        "    tr_loss, tr_acc, tr_p, tr_r, tr_f1, _, _ = run_epoch(teacher, train_loader, teacher_opt)\n",
        "    va_loss, va_acc, va_p, va_r, va_f1, _, _ = run_epoch(teacher, val_loader, optimizer=None)\n",
        "    history_teacher[\"train_loss\"].append(tr_loss); history_teacher[\"train_acc\"].append(tr_acc)\n",
        "    history_teacher[\"val_loss\"].append(va_loss);   history_teacher[\"val_acc\"].append(va_acc)\n",
        "\n",
        "    if va_acc > best_val_acc:\n",
        "        best_val_acc = va_acc\n",
        "        best_teacher = copy.deepcopy(teacher.state_dict())\n",
        "\n",
        "    print(f\"[Teacher][{epoch}/{TEACHER_EPOCHS}] \"\n",
        "          f\"train_acc={tr_acc:.4f} val_acc={va_acc:.4f} \"\n",
        "          f\"(P/R/F1={va_p:.4f}/{va_r:.4f}/{va_f1:.4f})\")\n",
        "\n",
        "torch.save(best_teacher, os.path.join(OUT_DIR, \"teacher_best.pth\"))\n",
        "teacher.load_state_dict(best_teacher)\n"
      ]
    },
    {
      "cell_type": "code",
      "execution_count": null,
      "metadata": {
        "id": "uuHNDxvht-za"
      },
      "outputs": [],
      "source": []
    },
    {
      "cell_type": "code",
      "execution_count": null,
      "metadata": {
        "colab": {
          "base_uri": "https://localhost:8080/"
        },
        "id": "5Ejw_AsPYD8q",
        "outputId": "cd938525-cd2f-459c-956e-002d37fa0c34"
      },
      "outputs": [
        {
          "name": "stderr",
          "output_type": "stream",
          "text": [
            "/tmp/ipython-input-102723975.py:29: UserWarning: To copy construct from a tensor, it is recommended to use sourceTensor.clone().detach() or sourceTensor.clone().detach().requires_grad_(True), rather than torch.tensor(sourceTensor).\n",
            "  xb, yb = xb.to(DEVICE, non_blocking=True), torch.tensor(yb).to(DEVICE)\n",
            "/tmp/ipython-input-102723975.py:29: UserWarning: To copy construct from a tensor, it is recommended to use sourceTensor.clone().detach() or sourceTensor.clone().detach().requires_grad_(True), rather than torch.tensor(sourceTensor).\n",
            "  xb, yb = xb.to(DEVICE, non_blocking=True), torch.tensor(yb).to(DEVICE)\n"
          ]
        },
        {
          "name": "stdout",
          "output_type": "stream",
          "text": [
            "[Student][1/25] train_acc=0.8973 val_acc=0.9698 (P/R/F1=0.9736/0.9851/0.9793)\n"
          ]
        },
        {
          "name": "stderr",
          "output_type": "stream",
          "text": [
            "/tmp/ipython-input-102723975.py:29: UserWarning: To copy construct from a tensor, it is recommended to use sourceTensor.clone().detach() or sourceTensor.clone().detach().requires_grad_(True), rather than torch.tensor(sourceTensor).\n",
            "  xb, yb = xb.to(DEVICE, non_blocking=True), torch.tensor(yb).to(DEVICE)\n",
            "/tmp/ipython-input-102723975.py:29: UserWarning: To copy construct from a tensor, it is recommended to use sourceTensor.clone().detach() or sourceTensor.clone().detach().requires_grad_(True), rather than torch.tensor(sourceTensor).\n",
            "  xb, yb = xb.to(DEVICE, non_blocking=True), torch.tensor(yb).to(DEVICE)\n"
          ]
        },
        {
          "name": "stdout",
          "output_type": "stream",
          "text": [
            "[Student][2/25] train_acc=0.9678 val_acc=0.9573 (P/R/F1=0.9483/0.9953/0.9712)\n"
          ]
        },
        {
          "name": "stderr",
          "output_type": "stream",
          "text": [
            "/tmp/ipython-input-102723975.py:29: UserWarning: To copy construct from a tensor, it is recommended to use sourceTensor.clone().detach() or sourceTensor.clone().detach().requires_grad_(True), rather than torch.tensor(sourceTensor).\n",
            "  xb, yb = xb.to(DEVICE, non_blocking=True), torch.tensor(yb).to(DEVICE)\n",
            "/tmp/ipython-input-102723975.py:29: UserWarning: To copy construct from a tensor, it is recommended to use sourceTensor.clone().detach() or sourceTensor.clone().detach().requires_grad_(True), rather than torch.tensor(sourceTensor).\n",
            "  xb, yb = xb.to(DEVICE, non_blocking=True), torch.tensor(yb).to(DEVICE)\n"
          ]
        },
        {
          "name": "stdout",
          "output_type": "stream",
          "text": [
            "[Student][3/25] train_acc=0.9783 val_acc=0.9721 (P/R/F1=0.9700/0.9921/0.9809)\n"
          ]
        },
        {
          "name": "stderr",
          "output_type": "stream",
          "text": [
            "/tmp/ipython-input-102723975.py:29: UserWarning: To copy construct from a tensor, it is recommended to use sourceTensor.clone().detach() or sourceTensor.clone().detach().requires_grad_(True), rather than torch.tensor(sourceTensor).\n",
            "  xb, yb = xb.to(DEVICE, non_blocking=True), torch.tensor(yb).to(DEVICE)\n",
            "/tmp/ipython-input-102723975.py:29: UserWarning: To copy construct from a tensor, it is recommended to use sourceTensor.clone().detach() or sourceTensor.clone().detach().requires_grad_(True), rather than torch.tensor(sourceTensor).\n",
            "  xb, yb = xb.to(DEVICE, non_blocking=True), torch.tensor(yb).to(DEVICE)\n"
          ]
        },
        {
          "name": "stdout",
          "output_type": "stream",
          "text": [
            "[Student][4/25] train_acc=0.9795 val_acc=0.9750 (P/R/F1=0.9912/0.9740/0.9825)\n"
          ]
        },
        {
          "name": "stderr",
          "output_type": "stream",
          "text": [
            "/tmp/ipython-input-102723975.py:29: UserWarning: To copy construct from a tensor, it is recommended to use sourceTensor.clone().detach() or sourceTensor.clone().detach().requires_grad_(True), rather than torch.tensor(sourceTensor).\n",
            "  xb, yb = xb.to(DEVICE, non_blocking=True), torch.tensor(yb).to(DEVICE)\n",
            "/tmp/ipython-input-102723975.py:29: UserWarning: To copy construct from a tensor, it is recommended to use sourceTensor.clone().detach() or sourceTensor.clone().detach().requires_grad_(True), rather than torch.tensor(sourceTensor).\n",
            "  xb, yb = xb.to(DEVICE, non_blocking=True), torch.tensor(yb).to(DEVICE)\n"
          ]
        },
        {
          "name": "stdout",
          "output_type": "stream",
          "text": [
            "[Student][5/25] train_acc=0.9866 val_acc=0.9750 (P/R/F1=0.9752/0.9906/0.9828)\n"
          ]
        },
        {
          "name": "stderr",
          "output_type": "stream",
          "text": [
            "/tmp/ipython-input-102723975.py:29: UserWarning: To copy construct from a tensor, it is recommended to use sourceTensor.clone().detach() or sourceTensor.clone().detach().requires_grad_(True), rather than torch.tensor(sourceTensor).\n",
            "  xb, yb = xb.to(DEVICE, non_blocking=True), torch.tensor(yb).to(DEVICE)\n",
            "/tmp/ipython-input-102723975.py:29: UserWarning: To copy construct from a tensor, it is recommended to use sourceTensor.clone().detach() or sourceTensor.clone().detach().requires_grad_(True), rather than torch.tensor(sourceTensor).\n",
            "  xb, yb = xb.to(DEVICE, non_blocking=True), torch.tensor(yb).to(DEVICE)\n"
          ]
        },
        {
          "name": "stdout",
          "output_type": "stream",
          "text": [
            "[Student][6/25] train_acc=0.9919 val_acc=0.9750 (P/R/F1=0.9767/0.9890/0.9828)\n"
          ]
        },
        {
          "name": "stderr",
          "output_type": "stream",
          "text": [
            "/tmp/ipython-input-102723975.py:29: UserWarning: To copy construct from a tensor, it is recommended to use sourceTensor.clone().detach() or sourceTensor.clone().detach().requires_grad_(True), rather than torch.tensor(sourceTensor).\n",
            "  xb, yb = xb.to(DEVICE, non_blocking=True), torch.tensor(yb).to(DEVICE)\n",
            "/tmp/ipython-input-102723975.py:29: UserWarning: To copy construct from a tensor, it is recommended to use sourceTensor.clone().detach() or sourceTensor.clone().detach().requires_grad_(True), rather than torch.tensor(sourceTensor).\n",
            "  xb, yb = xb.to(DEVICE, non_blocking=True), torch.tensor(yb).to(DEVICE)\n"
          ]
        },
        {
          "name": "stdout",
          "output_type": "stream",
          "text": [
            "[Student][7/25] train_acc=0.9937 val_acc=0.9715 (P/R/F1=0.9671/0.9945/0.9806)\n"
          ]
        },
        {
          "name": "stderr",
          "output_type": "stream",
          "text": [
            "/tmp/ipython-input-102723975.py:29: UserWarning: To copy construct from a tensor, it is recommended to use sourceTensor.clone().detach() or sourceTensor.clone().detach().requires_grad_(True), rather than torch.tensor(sourceTensor).\n",
            "  xb, yb = xb.to(DEVICE, non_blocking=True), torch.tensor(yb).to(DEVICE)\n",
            "/tmp/ipython-input-102723975.py:29: UserWarning: To copy construct from a tensor, it is recommended to use sourceTensor.clone().detach() or sourceTensor.clone().detach().requires_grad_(True), rather than torch.tensor(sourceTensor).\n",
            "  xb, yb = xb.to(DEVICE, non_blocking=True), torch.tensor(yb).to(DEVICE)\n"
          ]
        },
        {
          "name": "stdout",
          "output_type": "stream",
          "text": [
            "[Student][8/25] train_acc=0.9924 val_acc=0.9755 (P/R/F1=0.9865/0.9795/0.9830)\n"
          ]
        },
        {
          "name": "stderr",
          "output_type": "stream",
          "text": [
            "/tmp/ipython-input-102723975.py:29: UserWarning: To copy construct from a tensor, it is recommended to use sourceTensor.clone().detach() or sourceTensor.clone().detach().requires_grad_(True), rather than torch.tensor(sourceTensor).\n",
            "  xb, yb = xb.to(DEVICE, non_blocking=True), torch.tensor(yb).to(DEVICE)\n",
            "/tmp/ipython-input-102723975.py:29: UserWarning: To copy construct from a tensor, it is recommended to use sourceTensor.clone().detach() or sourceTensor.clone().detach().requires_grad_(True), rather than torch.tensor(sourceTensor).\n",
            "  xb, yb = xb.to(DEVICE, non_blocking=True), torch.tensor(yb).to(DEVICE)\n"
          ]
        },
        {
          "name": "stdout",
          "output_type": "stream",
          "text": [
            "[Student][9/25] train_acc=0.9937 val_acc=0.9761 (P/R/F1=0.9850/0.9819/0.9835)\n"
          ]
        },
        {
          "name": "stderr",
          "output_type": "stream",
          "text": [
            "/tmp/ipython-input-102723975.py:29: UserWarning: To copy construct from a tensor, it is recommended to use sourceTensor.clone().detach() or sourceTensor.clone().detach().requires_grad_(True), rather than torch.tensor(sourceTensor).\n",
            "  xb, yb = xb.to(DEVICE, non_blocking=True), torch.tensor(yb).to(DEVICE)\n",
            "/tmp/ipython-input-102723975.py:29: UserWarning: To copy construct from a tensor, it is recommended to use sourceTensor.clone().detach() or sourceTensor.clone().detach().requires_grad_(True), rather than torch.tensor(sourceTensor).\n",
            "  xb, yb = xb.to(DEVICE, non_blocking=True), torch.tensor(yb).to(DEVICE)\n"
          ]
        },
        {
          "name": "stdout",
          "output_type": "stream",
          "text": [
            "[Student][10/25] train_acc=0.9939 val_acc=0.9789 (P/R/F1=0.9820/0.9890/0.9855)\n"
          ]
        },
        {
          "name": "stderr",
          "output_type": "stream",
          "text": [
            "/tmp/ipython-input-102723975.py:29: UserWarning: To copy construct from a tensor, it is recommended to use sourceTensor.clone().detach() or sourceTensor.clone().detach().requires_grad_(True), rather than torch.tensor(sourceTensor).\n",
            "  xb, yb = xb.to(DEVICE, non_blocking=True), torch.tensor(yb).to(DEVICE)\n",
            "/tmp/ipython-input-102723975.py:29: UserWarning: To copy construct from a tensor, it is recommended to use sourceTensor.clone().detach() or sourceTensor.clone().detach().requires_grad_(True), rather than torch.tensor(sourceTensor).\n",
            "  xb, yb = xb.to(DEVICE, non_blocking=True), torch.tensor(yb).to(DEVICE)\n"
          ]
        },
        {
          "name": "stdout",
          "output_type": "stream",
          "text": [
            "[Student][11/25] train_acc=0.9944 val_acc=0.9806 (P/R/F1=0.9851/0.9882/0.9866)\n"
          ]
        },
        {
          "name": "stderr",
          "output_type": "stream",
          "text": [
            "/tmp/ipython-input-102723975.py:29: UserWarning: To copy construct from a tensor, it is recommended to use sourceTensor.clone().detach() or sourceTensor.clone().detach().requires_grad_(True), rather than torch.tensor(sourceTensor).\n",
            "  xb, yb = xb.to(DEVICE, non_blocking=True), torch.tensor(yb).to(DEVICE)\n",
            "/tmp/ipython-input-102723975.py:29: UserWarning: To copy construct from a tensor, it is recommended to use sourceTensor.clone().detach() or sourceTensor.clone().detach().requires_grad_(True), rather than torch.tensor(sourceTensor).\n",
            "  xb, yb = xb.to(DEVICE, non_blocking=True), torch.tensor(yb).to(DEVICE)\n"
          ]
        },
        {
          "name": "stdout",
          "output_type": "stream",
          "text": [
            "[Student][12/25] train_acc=0.9954 val_acc=0.9750 (P/R/F1=0.9804/0.9851/0.9827)\n"
          ]
        },
        {
          "name": "stderr",
          "output_type": "stream",
          "text": [
            "/tmp/ipython-input-102723975.py:29: UserWarning: To copy construct from a tensor, it is recommended to use sourceTensor.clone().detach() or sourceTensor.clone().detach().requires_grad_(True), rather than torch.tensor(sourceTensor).\n",
            "  xb, yb = xb.to(DEVICE, non_blocking=True), torch.tensor(yb).to(DEVICE)\n",
            "/tmp/ipython-input-102723975.py:29: UserWarning: To copy construct from a tensor, it is recommended to use sourceTensor.clone().detach() or sourceTensor.clone().detach().requires_grad_(True), rather than torch.tensor(sourceTensor).\n",
            "  xb, yb = xb.to(DEVICE, non_blocking=True), torch.tensor(yb).to(DEVICE)\n"
          ]
        },
        {
          "name": "stdout",
          "output_type": "stream",
          "text": [
            "[Student][13/25] train_acc=0.9959 val_acc=0.9721 (P/R/F1=0.9693/0.9929/0.9810)\n"
          ]
        },
        {
          "name": "stderr",
          "output_type": "stream",
          "text": [
            "/tmp/ipython-input-102723975.py:29: UserWarning: To copy construct from a tensor, it is recommended to use sourceTensor.clone().detach() or sourceTensor.clone().detach().requires_grad_(True), rather than torch.tensor(sourceTensor).\n",
            "  xb, yb = xb.to(DEVICE, non_blocking=True), torch.tensor(yb).to(DEVICE)\n",
            "/tmp/ipython-input-102723975.py:29: UserWarning: To copy construct from a tensor, it is recommended to use sourceTensor.clone().detach() or sourceTensor.clone().detach().requires_grad_(True), rather than torch.tensor(sourceTensor).\n",
            "  xb, yb = xb.to(DEVICE, non_blocking=True), torch.tensor(yb).to(DEVICE)\n"
          ]
        },
        {
          "name": "stdout",
          "output_type": "stream",
          "text": [
            "[Student][14/25] train_acc=0.9951 val_acc=0.9750 (P/R/F1=0.9774/0.9882/0.9828)\n"
          ]
        },
        {
          "name": "stderr",
          "output_type": "stream",
          "text": [
            "/tmp/ipython-input-102723975.py:29: UserWarning: To copy construct from a tensor, it is recommended to use sourceTensor.clone().detach() or sourceTensor.clone().detach().requires_grad_(True), rather than torch.tensor(sourceTensor).\n",
            "  xb, yb = xb.to(DEVICE, non_blocking=True), torch.tensor(yb).to(DEVICE)\n",
            "/tmp/ipython-input-102723975.py:29: UserWarning: To copy construct from a tensor, it is recommended to use sourceTensor.clone().detach() or sourceTensor.clone().detach().requires_grad_(True), rather than torch.tensor(sourceTensor).\n",
            "  xb, yb = xb.to(DEVICE, non_blocking=True), torch.tensor(yb).to(DEVICE)\n"
          ]
        },
        {
          "name": "stdout",
          "output_type": "stream",
          "text": [
            "[Student][15/25] train_acc=0.9949 val_acc=0.9767 (P/R/F1=0.9805/0.9874/0.9839)\n"
          ]
        },
        {
          "name": "stderr",
          "output_type": "stream",
          "text": [
            "/tmp/ipython-input-102723975.py:29: UserWarning: To copy construct from a tensor, it is recommended to use sourceTensor.clone().detach() or sourceTensor.clone().detach().requires_grad_(True), rather than torch.tensor(sourceTensor).\n",
            "  xb, yb = xb.to(DEVICE, non_blocking=True), torch.tensor(yb).to(DEVICE)\n",
            "/tmp/ipython-input-102723975.py:29: UserWarning: To copy construct from a tensor, it is recommended to use sourceTensor.clone().detach() or sourceTensor.clone().detach().requires_grad_(True), rather than torch.tensor(sourceTensor).\n",
            "  xb, yb = xb.to(DEVICE, non_blocking=True), torch.tensor(yb).to(DEVICE)\n"
          ]
        },
        {
          "name": "stdout",
          "output_type": "stream",
          "text": [
            "[Student][16/25] train_acc=0.9961 val_acc=0.9772 (P/R/F1=0.9790/0.9898/0.9844)\n"
          ]
        },
        {
          "name": "stderr",
          "output_type": "stream",
          "text": [
            "/tmp/ipython-input-102723975.py:29: UserWarning: To copy construct from a tensor, it is recommended to use sourceTensor.clone().detach() or sourceTensor.clone().detach().requires_grad_(True), rather than torch.tensor(sourceTensor).\n",
            "  xb, yb = xb.to(DEVICE, non_blocking=True), torch.tensor(yb).to(DEVICE)\n",
            "/tmp/ipython-input-102723975.py:29: UserWarning: To copy construct from a tensor, it is recommended to use sourceTensor.clone().detach() or sourceTensor.clone().detach().requires_grad_(True), rather than torch.tensor(sourceTensor).\n",
            "  xb, yb = xb.to(DEVICE, non_blocking=True), torch.tensor(yb).to(DEVICE)\n"
          ]
        },
        {
          "name": "stdout",
          "output_type": "stream",
          "text": [
            "[Student][17/25] train_acc=0.9944 val_acc=0.9761 (P/R/F1=0.9782/0.9890/0.9836)\n"
          ]
        },
        {
          "name": "stderr",
          "output_type": "stream",
          "text": [
            "/tmp/ipython-input-102723975.py:29: UserWarning: To copy construct from a tensor, it is recommended to use sourceTensor.clone().detach() or sourceTensor.clone().detach().requires_grad_(True), rather than torch.tensor(sourceTensor).\n",
            "  xb, yb = xb.to(DEVICE, non_blocking=True), torch.tensor(yb).to(DEVICE)\n",
            "/tmp/ipython-input-102723975.py:29: UserWarning: To copy construct from a tensor, it is recommended to use sourceTensor.clone().detach() or sourceTensor.clone().detach().requires_grad_(True), rather than torch.tensor(sourceTensor).\n",
            "  xb, yb = xb.to(DEVICE, non_blocking=True), torch.tensor(yb).to(DEVICE)\n"
          ]
        },
        {
          "name": "stdout",
          "output_type": "stream",
          "text": [
            "[Student][18/25] train_acc=0.9968 val_acc=0.9789 (P/R/F1=0.9843/0.9866/0.9855)\n"
          ]
        },
        {
          "name": "stderr",
          "output_type": "stream",
          "text": [
            "/tmp/ipython-input-102723975.py:29: UserWarning: To copy construct from a tensor, it is recommended to use sourceTensor.clone().detach() or sourceTensor.clone().detach().requires_grad_(True), rather than torch.tensor(sourceTensor).\n",
            "  xb, yb = xb.to(DEVICE, non_blocking=True), torch.tensor(yb).to(DEVICE)\n",
            "/tmp/ipython-input-102723975.py:29: UserWarning: To copy construct from a tensor, it is recommended to use sourceTensor.clone().detach() or sourceTensor.clone().detach().requires_grad_(True), rather than torch.tensor(sourceTensor).\n",
            "  xb, yb = xb.to(DEVICE, non_blocking=True), torch.tensor(yb).to(DEVICE)\n"
          ]
        },
        {
          "name": "stdout",
          "output_type": "stream",
          "text": [
            "[Student][19/25] train_acc=0.9976 val_acc=0.9806 (P/R/F1=0.9836/0.9898/0.9867)\n"
          ]
        },
        {
          "name": "stderr",
          "output_type": "stream",
          "text": [
            "/tmp/ipython-input-102723975.py:29: UserWarning: To copy construct from a tensor, it is recommended to use sourceTensor.clone().detach() or sourceTensor.clone().detach().requires_grad_(True), rather than torch.tensor(sourceTensor).\n",
            "  xb, yb = xb.to(DEVICE, non_blocking=True), torch.tensor(yb).to(DEVICE)\n",
            "/tmp/ipython-input-102723975.py:29: UserWarning: To copy construct from a tensor, it is recommended to use sourceTensor.clone().detach() or sourceTensor.clone().detach().requires_grad_(True), rather than torch.tensor(sourceTensor).\n",
            "  xb, yb = xb.to(DEVICE, non_blocking=True), torch.tensor(yb).to(DEVICE)\n"
          ]
        },
        {
          "name": "stdout",
          "output_type": "stream",
          "text": [
            "[Student][20/25] train_acc=0.9949 val_acc=0.9755 (P/R/F1=0.9873/0.9788/0.9830)\n"
          ]
        },
        {
          "name": "stderr",
          "output_type": "stream",
          "text": [
            "/tmp/ipython-input-102723975.py:29: UserWarning: To copy construct from a tensor, it is recommended to use sourceTensor.clone().detach() or sourceTensor.clone().detach().requires_grad_(True), rather than torch.tensor(sourceTensor).\n",
            "  xb, yb = xb.to(DEVICE, non_blocking=True), torch.tensor(yb).to(DEVICE)\n",
            "/tmp/ipython-input-102723975.py:29: UserWarning: To copy construct from a tensor, it is recommended to use sourceTensor.clone().detach() or sourceTensor.clone().detach().requires_grad_(True), rather than torch.tensor(sourceTensor).\n",
            "  xb, yb = xb.to(DEVICE, non_blocking=True), torch.tensor(yb).to(DEVICE)\n"
          ]
        },
        {
          "name": "stdout",
          "output_type": "stream",
          "text": [
            "[Student][21/25] train_acc=0.9922 val_acc=0.9767 (P/R/F1=0.9812/0.9866/0.9839)\n"
          ]
        },
        {
          "name": "stderr",
          "output_type": "stream",
          "text": [
            "/tmp/ipython-input-102723975.py:29: UserWarning: To copy construct from a tensor, it is recommended to use sourceTensor.clone().detach() or sourceTensor.clone().detach().requires_grad_(True), rather than torch.tensor(sourceTensor).\n",
            "  xb, yb = xb.to(DEVICE, non_blocking=True), torch.tensor(yb).to(DEVICE)\n",
            "/tmp/ipython-input-102723975.py:29: UserWarning: To copy construct from a tensor, it is recommended to use sourceTensor.clone().detach() or sourceTensor.clone().detach().requires_grad_(True), rather than torch.tensor(sourceTensor).\n",
            "  xb, yb = xb.to(DEVICE, non_blocking=True), torch.tensor(yb).to(DEVICE)\n"
          ]
        },
        {
          "name": "stdout",
          "output_type": "stream",
          "text": [
            "[Student][22/25] train_acc=0.9951 val_acc=0.9738 (P/R/F1=0.9759/0.9882/0.9820)\n"
          ]
        },
        {
          "name": "stderr",
          "output_type": "stream",
          "text": [
            "/tmp/ipython-input-102723975.py:29: UserWarning: To copy construct from a tensor, it is recommended to use sourceTensor.clone().detach() or sourceTensor.clone().detach().requires_grad_(True), rather than torch.tensor(sourceTensor).\n",
            "  xb, yb = xb.to(DEVICE, non_blocking=True), torch.tensor(yb).to(DEVICE)\n",
            "/tmp/ipython-input-102723975.py:29: UserWarning: To copy construct from a tensor, it is recommended to use sourceTensor.clone().detach() or sourceTensor.clone().detach().requires_grad_(True), rather than torch.tensor(sourceTensor).\n",
            "  xb, yb = xb.to(DEVICE, non_blocking=True), torch.tensor(yb).to(DEVICE)\n"
          ]
        },
        {
          "name": "stdout",
          "output_type": "stream",
          "text": [
            "[Student][23/25] train_acc=0.9966 val_acc=0.9732 (P/R/F1=0.9737/0.9898/0.9817)\n"
          ]
        },
        {
          "name": "stderr",
          "output_type": "stream",
          "text": [
            "/tmp/ipython-input-102723975.py:29: UserWarning: To copy construct from a tensor, it is recommended to use sourceTensor.clone().detach() or sourceTensor.clone().detach().requires_grad_(True), rather than torch.tensor(sourceTensor).\n",
            "  xb, yb = xb.to(DEVICE, non_blocking=True), torch.tensor(yb).to(DEVICE)\n",
            "/tmp/ipython-input-102723975.py:29: UserWarning: To copy construct from a tensor, it is recommended to use sourceTensor.clone().detach() or sourceTensor.clone().detach().requires_grad_(True), rather than torch.tensor(sourceTensor).\n",
            "  xb, yb = xb.to(DEVICE, non_blocking=True), torch.tensor(yb).to(DEVICE)\n"
          ]
        },
        {
          "name": "stdout",
          "output_type": "stream",
          "text": [
            "[Student][24/25] train_acc=0.9978 val_acc=0.9727 (P/R/F1=0.9715/0.9913/0.9813)\n"
          ]
        },
        {
          "name": "stderr",
          "output_type": "stream",
          "text": [
            "/tmp/ipython-input-102723975.py:29: UserWarning: To copy construct from a tensor, it is recommended to use sourceTensor.clone().detach() or sourceTensor.clone().detach().requires_grad_(True), rather than torch.tensor(sourceTensor).\n",
            "  xb, yb = xb.to(DEVICE, non_blocking=True), torch.tensor(yb).to(DEVICE)\n",
            "/tmp/ipython-input-102723975.py:29: UserWarning: To copy construct from a tensor, it is recommended to use sourceTensor.clone().detach() or sourceTensor.clone().detach().requires_grad_(True), rather than torch.tensor(sourceTensor).\n",
            "  xb, yb = xb.to(DEVICE, non_blocking=True), torch.tensor(yb).to(DEVICE)\n"
          ]
        },
        {
          "name": "stdout",
          "output_type": "stream",
          "text": [
            "[Student][25/25] train_acc=0.9968 val_acc=0.9784 (P/R/F1=0.9858/0.9843/0.9850)\n"
          ]
        },
        {
          "data": {
            "text/plain": [
              "<All keys matched successfully>"
            ]
          },
          "execution_count": 17,
          "metadata": {},
          "output_type": "execute_result"
        }
      ],
      "source": [
        "# === Knowledge Distillation Loss\n",
        "def kd_loss_fn(student_logits, teacher_logits, hard_targets, alpha=KD_ALPHA, T=KD_TEMPERATURE):\n",
        "    ce = F.cross_entropy(student_logits, hard_targets)\n",
        "    # KL divergence between softened probabilities\n",
        "    s_log_probs = F.log_softmax(student_logits / T, dim=1)\n",
        "    t_probs = F.softmax(teacher_logits / T, dim=1)\n",
        "    kd = F.kl_div(s_log_probs, t_probs, reduction=\"batchmean\") * (T * T)\n",
        "    return alpha * kd + (1.0 - alpha) * ce\n",
        "\n",
        "@torch.no_grad()\n",
        "def get_teacher_logits(model, xb):\n",
        "    model.eval()\n",
        "    return model(xb)\n",
        "\n",
        "def run_epoch_kd(student, teacher, loader, optimizer=None):\n",
        "    is_train = optimizer is not None\n",
        "    if is_train:\n",
        "        student.train(True)\n",
        "        teacher.eval()\n",
        "    else:\n",
        "        student.train(False)\n",
        "        teacher.eval()\n",
        "\n",
        "    total, correct = 0, 0\n",
        "    running_loss = 0.0\n",
        "    all_preds, all_labels = [], []\n",
        "\n",
        "    for xb, yb in loader:\n",
        "        xb, yb = xb.to(DEVICE, non_blocking=True), torch.tensor(yb).to(DEVICE)\n",
        "\n",
        "        with torch.no_grad():\n",
        "            t_logits = teacher(xb)\n",
        "\n",
        "        s_logits = student(xb)\n",
        "\n",
        "        if is_train:\n",
        "            optimizer.zero_grad(set_to_none=True)\n",
        "            loss = kd_loss_fn(s_logits, t_logits, yb, alpha=KD_ALPHA, T=KD_TEMPERATURE)\n",
        "            loss.backward()\n",
        "            optimizer.step()\n",
        "        else:\n",
        "            loss = F.cross_entropy(s_logits, yb)\n",
        "\n",
        "        running_loss += loss.item() * xb.size(0)\n",
        "        preds = s_logits.argmax(dim=1)\n",
        "        correct += (preds == yb).sum().item()\n",
        "        total += xb.size(0)\n",
        "        all_preds.append(preds.detach().cpu().numpy())\n",
        "        all_labels.append(yb.detach().cpu().numpy())\n",
        "\n",
        "    avg_loss = running_loss / total\n",
        "    acc = correct / total\n",
        "    all_preds = np.concatenate(all_preds)\n",
        "    all_labels = np.concatenate(all_labels)\n",
        "    p, r, f1, _ = precision_recall_fscore_support(all_labels, all_preds, average=\"binary\")\n",
        "    return avg_loss, acc, p, r, f1, all_preds, all_labels\n",
        "\n",
        "student_opt = torch.optim.SGD(student.parameters(), lr=LR, momentum=MOMENTUM)\n",
        "history_student = {\"train_loss\":[], \"train_acc\":[], \"val_loss\":[], \"val_acc\":[]}\n",
        "\n",
        "best_student = copy.deepcopy(student.state_dict())\n",
        "best_val_acc_s = 0.0\n",
        "\n",
        "for epoch in range(1, STUDENT_EPOCHS+1):\n",
        "    tr_loss, tr_acc, tr_p, tr_r, tr_f1, _, _ = run_epoch_kd(student, teacher, train_loader, student_opt)\n",
        "    va_loss, va_acc, va_p, va_r, va_f1, _, _ = run_epoch_kd(student, teacher, val_loader, optimizer=None)\n",
        "    history_student[\"train_loss\"].append(tr_loss); history_student[\"train_acc\"].append(tr_acc)\n",
        "    history_student[\"val_loss\"].append(va_loss);   history_student[\"val_acc\"].append(va_acc)\n",
        "\n",
        "    if va_acc > best_val_acc_s:\n",
        "        best_val_acc_s = va_acc\n",
        "        best_student = copy.deepcopy(student.state_dict())\n",
        "\n",
        "    print(f\"[Student][{epoch}/{STUDENT_EPOCHS}] \"\n",
        "          f\"train_acc={tr_acc:.4f} val_acc={va_acc:.4f} \"\n",
        "          f\"(P/R/F1={va_p:.4f}/{va_r:.4f}/{va_f1:.4f})\")\n",
        "\n",
        "torch.save(best_student, os.path.join(OUT_DIR, \"student_best_kd.pth\"))\n",
        "student.load_state_dict(best_student)\n"
      ]
    },
    {
      "cell_type": "code",
      "execution_count": null,
      "metadata": {
        "colab": {
          "base_uri": "https://localhost:8080/",
          "height": 1000
        },
        "id": "xisHJnwKYLZo",
        "outputId": "27b2f849-b88f-4b12-ac10-12083229e1b3"
      },
      "outputs": [
        {
          "name": "stderr",
          "output_type": "stream",
          "text": [
            "/tmp/ipython-input-102723975.py:29: UserWarning: To copy construct from a tensor, it is recommended to use sourceTensor.clone().detach() or sourceTensor.clone().detach().requires_grad_(True), rather than torch.tensor(sourceTensor).\n",
            "  xb, yb = xb.to(DEVICE, non_blocking=True), torch.tensor(yb).to(DEVICE)\n"
          ]
        },
        {
          "name": "stdout",
          "output_type": "stream",
          "text": [
            "Final Student — Acc=0.9806, Precision=0.9851, Recall=0.9882, F1=0.9866\n"
          ]
        },
        {
          "data": {
            "image/png": "[encoded data removed]",
            "text/plain": [
              "<Figure size 640x480 with 1 Axes>"
            ]
          },
          "metadata": {},
          "output_type": "display_data"
        },
        {
          "data": {
            "image/png": "[encoded data removed]",
            "text/plain": [
              "<Figure size 640x480 with 1 Axes>"
            ]
          },
          "metadata": {},
          "output_type": "display_data"
        },
        {
          "data": {
            "image/png": "[encoded data removed]",
            "text/plain": [
              "<Figure size 640x480 with 1 Axes>"
            ]
          },
          "metadata": {},
          "output_type": "display_data"
        },
        {
          "data": {
            "image/png": "[encoded data removed]",
            "text/plain": [
              "<Figure size 640x480 with 1 Axes>"
            ]
          },
          "metadata": {},
          "output_type": "display_data"
        },
        {
          "data": {
            "image/png": "[encoded data removed]",
            "text/plain": [
              "<Figure size 640x480 with 2 Axes>"
            ]
          },
          "metadata": {},
          "output_type": "display_data"
        }
      ],
      "source": [
        "# === Final Evaluation (Student)\n",
        "student.eval()\n",
        "_, acc, p, r, f1, preds, labels = run_epoch_kd(student, teacher, val_loader, optimizer=None)\n",
        "print(f\"Final Student — Acc={acc:.4f}, Precision={p:.4f}, Recall={r:.4f}, F1={f1:.4f}\")\n",
        "\n",
        "cm = confusion_matrix(labels, preds)\n",
        "\n",
        "# Plot loss/acc curves (teacher)\n",
        "plt.figure()\n",
        "plt.plot(history_teacher['train_loss'], label='train_loss')\n",
        "plt.plot(history_teacher['val_loss'], label='val_loss')\n",
        "plt.title('Teacher Loss')\n",
        "plt.xlabel('Epoch'); plt.ylabel('Loss'); plt.legend()\n",
        "plt.show()\n",
        "\n",
        "plt.figure()\n",
        "plt.plot(history_teacher['train_acc'], label='train_acc')\n",
        "plt.plot(history_teacher['val_acc'], label='val_acc')\n",
        "plt.title('Teacher Accuracy')\n",
        "plt.xlabel('Epoch'); plt.ylabel('Accuracy'); plt.legend()\n",
        "plt.show()\n",
        "\n",
        "# Plot loss/acc curves (student)\n",
        "plt.figure()\n",
        "plt.plot(history_student['train_loss'], label='train_loss')\n",
        "plt.plot(history_student['val_loss'], label='val_loss')\n",
        "plt.title('Student (KD) Loss')\n",
        "plt.xlabel('Epoch'); plt.ylabel('Loss'); plt.legend()\n",
        "plt.show()\n",
        "\n",
        "plt.figure()\n",
        "plt.plot(history_student['train_acc'], label='train_acc')\n",
        "plt.plot(history_student['val_acc'], label='val_acc')\n",
        "plt.title('Student (KD) Accuracy')\n",
        "plt.xlabel('Epoch'); plt.ylabel('Accuracy'); plt.legend()\n",
        "plt.show()\n",
        "\n",
        "# Plot confusion matrix\n",
        "plt.figure()\n",
        "plt.imshow(cm, interpolation='nearest')\n",
        "plt.title('Confusion Matrix (Student)')\n",
        "plt.colorbar()\n",
        "tick_marks = np.arange(len(class_names))\n",
        "plt.xticks(tick_marks, class_names, rotation=45)\n",
        "plt.yticks(tick_marks, class_names)\n",
        "thresh = cm.max() / 2.\n",
        "for i in range(cm.shape[0]):\n",
        "    for j in range(cm.shape[1]):\n",
        "        plt.text(j, i, format(cm[i, j], 'd'),\n",
        "                 horizontalalignment=\"center\")\n",
        "plt.tight_layout()\n",
        "plt.ylabel('True label')\n",
        "plt.xlabel('Predicted label')\n",
        "plt.show()"
      ]
    },
    {
      "cell_type": "code",
      "execution_count": null,
      "metadata": {},
      "outputs": [],
      "source": []
    },
    {
      "cell_type": "code",
      "execution_count": null,
      "metadata": {
        "colab": {
          "base_uri": "https://localhost:8080/"
        },
        "id": "seu6vkket_1p",
        "outputId": "58c1364f-2476-46ff-a2b0-d31f302f31c9"
      },
      "outputs": [
        {
          "name": "stdout",
          "output_type": "stream",
          "text": [
            "Saved to /content/outputs_kd\n"
          ]
        }
      ],
      "source": [
        "# === Save logs & basic stats\n",
        "import json\n",
        "logs = {\n",
        "    \"teacher\": history_teacher,\n",
        "    \"student\": history_student,\n",
        "    \"final_student_metrics\": {\"acc\": float(acc), \"precision\": float(p), \"recall\": float(r), \"f1\": float(f1)},\n",
        "    \"teacher_params_M\": sum(p.numel() for p in teacher.parameters())/1e6,\n",
        "    \"student_params_M\": sum(p.numel() for p in student.parameters())/1e6,\n",
        "}\n",
        "with open(os.path.join(OUT_DIR, \"training_logs.json\"), \"w\") as f:\n",
        "    json.dump(logs, f, indent=2)\n",
        "print(\"Saved to\", os.path.abspath(OUT_DIR))"
      ]
    }
  ],
  "metadata": {
    "accelerator": "GPU",
    "colab": {
      "gpuType": "T4",
      "provenance": []
    },
    "kernelspec": {
      "display_name": "Python 3",
      "name": "python3"
    },
    "language_info": {
      "name": "python"
    }
  },
  "nbformat": 4,
  "nbformat_minor": 0
}
